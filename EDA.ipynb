{
  "cells": [
    {
      "cell_type": "code",
      "execution_count": 2,
      "metadata": {
        "colab": {
          "base_uri": "https://localhost:8080/"
        },
        "id": "FZLaoSwWLgqV",
        "outputId": "05379447-581f-4159-9ff0-f4c3074a363b"
      },
      "outputs": [
        {
          "output_type": "stream",
          "name": "stderr",
          "text": [
            "[nltk_data] Downloading package stopwords to /root/nltk_data...\n",
            "[nltk_data]   Unzipping corpora/stopwords.zip.\n"
          ]
        }
      ],
      "source": [
        "import pandas as pd\n",
        "import matplotlib.pyplot as plt\n",
        "import numpy as np\n",
        "import seaborn as sns\n",
        "from plotly import graph_objs as go\n",
        "import regex as re\n",
        "import nltk\n",
        "from textblob import TextBlob\n",
        "from nltk.corpus import stopwords\n",
        "from nltk.tokenize import word_tokenize\n",
        "from nltk.stem.porter import PorterStemmer\n",
        "from sklearn.feature_extraction.text import CountVectorizer\n",
        "from sklearn.ensemble import RandomForestClassifier\n",
        "from sklearn.metrics import confusion_matrix,f1_score, precision_score,recall_score\n",
        "import xgboost as xgb\n",
        "from sklearn.neighbors import KNeighborsClassifier\n",
        "from sklearn.naive_bayes import GaussianNB\n",
        "from sklearn.tree import DecisionTreeClassifier\n",
        "nltk.download('stopwords')\n",
        "stopwords = set((stopwords.words('english')))"
      ]
    },
    {
      "cell_type": "code",
      "execution_count": 3,
      "metadata": {
        "colab": {
          "base_uri": "https://localhost:8080/",
          "height": 206
        },
        "id": "oeDzIBf0QsJ_",
        "outputId": "86f875fe-f21c-4c98-b666-48fe19455be4"
      },
      "outputs": [
        {
          "output_type": "execute_result",
          "data": {
            "text/plain": [
              "                                          clean_text  category\n",
              "0  when modi promised “minimum government maximum...      -1.0\n",
              "1  talk all the nonsense and continue all the dra...       0.0\n",
              "2  what did just say vote for modi  welcome bjp t...       1.0\n",
              "3  said the action was not directed against any c...       1.0\n",
              "4  congratulations our shri narwndrea modi and dr...       0.0"
            ],
            "text/html": [
              "\n",
              "  <div id=\"df-720cf461-010d-4b8d-9ae7-7eb076707cf7\">\n",
              "    <div class=\"colab-df-container\">\n",
              "      <div>\n",
              "<style scoped>\n",
              "    .dataframe tbody tr th:only-of-type {\n",
              "        vertical-align: middle;\n",
              "    }\n",
              "\n",
              "    .dataframe tbody tr th {\n",
              "        vertical-align: top;\n",
              "    }\n",
              "\n",
              "    .dataframe thead th {\n",
              "        text-align: right;\n",
              "    }\n",
              "</style>\n",
              "<table border=\"1\" class=\"dataframe\">\n",
              "  <thead>\n",
              "    <tr style=\"text-align: right;\">\n",
              "      <th></th>\n",
              "      <th>clean_text</th>\n",
              "      <th>category</th>\n",
              "    </tr>\n",
              "  </thead>\n",
              "  <tbody>\n",
              "    <tr>\n",
              "      <th>0</th>\n",
              "      <td>when modi promised “minimum government maximum...</td>\n",
              "      <td>-1.0</td>\n",
              "    </tr>\n",
              "    <tr>\n",
              "      <th>1</th>\n",
              "      <td>talk all the nonsense and continue all the dra...</td>\n",
              "      <td>0.0</td>\n",
              "    </tr>\n",
              "    <tr>\n",
              "      <th>2</th>\n",
              "      <td>what did just say vote for modi  welcome bjp t...</td>\n",
              "      <td>1.0</td>\n",
              "    </tr>\n",
              "    <tr>\n",
              "      <th>3</th>\n",
              "      <td>said the action was not directed against any c...</td>\n",
              "      <td>1.0</td>\n",
              "    </tr>\n",
              "    <tr>\n",
              "      <th>4</th>\n",
              "      <td>congratulations our shri narwndrea modi and dr...</td>\n",
              "      <td>0.0</td>\n",
              "    </tr>\n",
              "  </tbody>\n",
              "</table>\n",
              "</div>\n",
              "      <button class=\"colab-df-convert\" onclick=\"convertToInteractive('df-720cf461-010d-4b8d-9ae7-7eb076707cf7')\"\n",
              "              title=\"Convert this dataframe to an interactive table.\"\n",
              "              style=\"display:none;\">\n",
              "        \n",
              "  <svg xmlns=\"http://www.w3.org/2000/svg\" height=\"24px\"viewBox=\"0 0 24 24\"\n",
              "       width=\"24px\">\n",
              "    <path d=\"M0 0h24v24H0V0z\" fill=\"none\"/>\n",
              "    <path d=\"M18.56 5.44l.94 2.06.94-2.06 2.06-.94-2.06-.94-.94-2.06-.94 2.06-2.06.94zm-11 1L8.5 8.5l.94-2.06 2.06-.94-2.06-.94L8.5 2.5l-.94 2.06-2.06.94zm10 10l.94 2.06.94-2.06 2.06-.94-2.06-.94-.94-2.06-.94 2.06-2.06.94z\"/><path d=\"M17.41 7.96l-1.37-1.37c-.4-.4-.92-.59-1.43-.59-.52 0-1.04.2-1.43.59L10.3 9.45l-7.72 7.72c-.78.78-.78 2.05 0 2.83L4 21.41c.39.39.9.59 1.41.59.51 0 1.02-.2 1.41-.59l7.78-7.78 2.81-2.81c.8-.78.8-2.07 0-2.86zM5.41 20L4 18.59l7.72-7.72 1.47 1.35L5.41 20z\"/>\n",
              "  </svg>\n",
              "      </button>\n",
              "      \n",
              "  <style>\n",
              "    .colab-df-container {\n",
              "      display:flex;\n",
              "      flex-wrap:wrap;\n",
              "      gap: 12px;\n",
              "    }\n",
              "\n",
              "    .colab-df-convert {\n",
              "      background-color: #E8F0FE;\n",
              "      border: none;\n",
              "      border-radius: 50%;\n",
              "      cursor: pointer;\n",
              "      display: none;\n",
              "      fill: #1967D2;\n",
              "      height: 32px;\n",
              "      padding: 0 0 0 0;\n",
              "      width: 32px;\n",
              "    }\n",
              "\n",
              "    .colab-df-convert:hover {\n",
              "      background-color: #E2EBFA;\n",
              "      box-shadow: 0px 1px 2px rgba(60, 64, 67, 0.3), 0px 1px 3px 1px rgba(60, 64, 67, 0.15);\n",
              "      fill: #174EA6;\n",
              "    }\n",
              "\n",
              "    [theme=dark] .colab-df-convert {\n",
              "      background-color: #3B4455;\n",
              "      fill: #D2E3FC;\n",
              "    }\n",
              "\n",
              "    [theme=dark] .colab-df-convert:hover {\n",
              "      background-color: #434B5C;\n",
              "      box-shadow: 0px 1px 3px 1px rgba(0, 0, 0, 0.15);\n",
              "      filter: drop-shadow(0px 1px 2px rgba(0, 0, 0, 0.3));\n",
              "      fill: #FFFFFF;\n",
              "    }\n",
              "  </style>\n",
              "\n",
              "      <script>\n",
              "        const buttonEl =\n",
              "          document.querySelector('#df-720cf461-010d-4b8d-9ae7-7eb076707cf7 button.colab-df-convert');\n",
              "        buttonEl.style.display =\n",
              "          google.colab.kernel.accessAllowed ? 'block' : 'none';\n",
              "\n",
              "        async function convertToInteractive(key) {\n",
              "          const element = document.querySelector('#df-720cf461-010d-4b8d-9ae7-7eb076707cf7');\n",
              "          const dataTable =\n",
              "            await google.colab.kernel.invokeFunction('convertToInteractive',\n",
              "                                                     [key], {});\n",
              "          if (!dataTable) return;\n",
              "\n",
              "          const docLinkHtml = 'Like what you see? Visit the ' +\n",
              "            '<a target=\"_blank\" href=https://colab.research.google.com/notebooks/data_table.ipynb>data table notebook</a>'\n",
              "            + ' to learn more about interactive tables.';\n",
              "          element.innerHTML = '';\n",
              "          dataTable['output_type'] = 'display_data';\n",
              "          await google.colab.output.renderOutput(dataTable, element);\n",
              "          const docLink = document.createElement('div');\n",
              "          docLink.innerHTML = docLinkHtml;\n",
              "          element.appendChild(docLink);\n",
              "        }\n",
              "      </script>\n",
              "    </div>\n",
              "  </div>\n",
              "  "
            ]
          },
          "metadata": {},
          "execution_count": 3
        }
      ],
      "source": [
        "df = pd.read_csv('/content/drive/MyDrive/Twitter_Data1.csv')\n",
        "df.head()"
      ]
    },
    {
      "cell_type": "code",
      "execution_count": 4,
      "metadata": {
        "colab": {
          "base_uri": "https://localhost:8080/"
        },
        "id": "FEe4-wbVsUR8",
        "outputId": "509ba613-cebb-4742-c3e3-5d2852c78fd1"
      },
      "outputs": [
        {
          "output_type": "execute_result",
          "data": {
            "text/plain": [
              "93183"
            ]
          },
          "metadata": {},
          "execution_count": 4
        }
      ],
      "source": [
        "len(df)"
      ]
    },
    {
      "cell_type": "code",
      "execution_count": 5,
      "metadata": {
        "colab": {
          "base_uri": "https://localhost:8080/"
        },
        "id": "mVLJOkOFixpn",
        "outputId": "3b92deb2-dc5e-467e-d118-c107252183bf"
      },
      "outputs": [
        {
          "output_type": "stream",
          "name": "stdout",
          "text": [
            "Drive already mounted at /content/drive; to attempt to forcibly remount, call drive.mount(\"/content/drive\", force_remount=True).\n"
          ]
        }
      ],
      "source": [
        "from google.colab import drive\n",
        "drive.mount('/content/drive')"
      ]
    },
    {
      "cell_type": "code",
      "execution_count": 6,
      "metadata": {
        "colab": {
          "base_uri": "https://localhost:8080/",
          "height": 405
        },
        "id": "Y30hI9O3QyeO",
        "outputId": "41d82d87-1efe-46a8-dc53-ea622a302b2c"
      },
      "outputs": [
        {
          "output_type": "execute_result",
          "data": {
            "text/plain": [
              "<matplotlib.axes._subplots.AxesSubplot at 0x7f88df4d5e90>"
            ]
          },
          "metadata": {},
          "execution_count": 6
        },
        {
          "output_type": "display_data",
          "data": {
            "text/plain": [
              "<Figure size 864x432 with 1 Axes>"
            ],
            "image/png": "[encoded data removed]"
          },
          "metadata": {
            "needs_background": "light"
          }
        }
      ],
      "source": [
        "plt.figure(figsize=(12,6))\n",
        "sns.countplot(x='category',data=df)"
      ]
    },
    {
      "cell_type": "code",
      "execution_count": 7,
      "metadata": {
        "colab": {
          "base_uri": "https://localhost:8080/",
          "height": 143
        },
        "id": "cgJVD3PzUCEj",
        "outputId": "be2b6414-00b7-4522-cf97-526ed454382e"
      },
      "outputs": [
        {
          "output_type": "execute_result",
          "data": {
            "text/plain": [
              "<pandas.io.formats.style.Styler at 0x7f88df3bdc90>"
            ],
            "text/html": [
              "<style type=\"text/css\">\n",
              "#T_d3a49_row0_col0, #T_d3a49_row0_col1 {\n",
              "  background-color: #3f007d;\n",
              "  color: #f1f1f1;\n",
              "}\n",
              "#T_d3a49_row1_col0 {\n",
              "  background-color: #9e9ac8;\n",
              "  color: #f1f1f1;\n",
              "}\n",
              "#T_d3a49_row1_col1 {\n",
              "  background-color: #9591c4;\n",
              "  color: #f1f1f1;\n",
              "}\n",
              "#T_d3a49_row2_col0, #T_d3a49_row2_col1 {\n",
              "  background-color: #fcfbfd;\n",
              "  color: #000000;\n",
              "}\n",
              "</style>\n",
              "<table id=\"T_d3a49_\" class=\"dataframe\">\n",
              "  <thead>\n",
              "    <tr>\n",
              "      <th class=\"blank level0\" >&nbsp;</th>\n",
              "      <th class=\"col_heading level0 col0\" >category</th>\n",
              "      <th class=\"col_heading level0 col1\" >clean_text</th>\n",
              "    </tr>\n",
              "  </thead>\n",
              "  <tbody>\n",
              "    <tr>\n",
              "      <th id=\"T_d3a49_level0_row0\" class=\"row_heading level0 row0\" >2</th>\n",
              "      <td id=\"T_d3a49_row0_col0\" class=\"data row0 col0\" >1.000000</td>\n",
              "      <td id=\"T_d3a49_row0_col1\" class=\"data row0 col1\" >41257</td>\n",
              "    </tr>\n",
              "    <tr>\n",
              "      <th id=\"T_d3a49_level0_row1\" class=\"row_heading level0 row1\" >1</th>\n",
              "      <td id=\"T_d3a49_row1_col0\" class=\"data row1 col0\" >0.000000</td>\n",
              "      <td id=\"T_d3a49_row1_col1\" class=\"data row1 col1\" >31587</td>\n",
              "    </tr>\n",
              "    <tr>\n",
              "      <th id=\"T_d3a49_level0_row2\" class=\"row_heading level0 row2\" >0</th>\n",
              "      <td id=\"T_d3a49_row2_col0\" class=\"data row2 col0\" >-1.000000</td>\n",
              "      <td id=\"T_d3a49_row2_col1\" class=\"data row2 col1\" >20329</td>\n",
              "    </tr>\n",
              "  </tbody>\n",
              "</table>\n"
            ]
          },
          "metadata": {},
          "execution_count": 7
        }
      ],
      "source": [
        "temp = df.groupby('category').count()['clean_text'].reset_index().sort_values(by='clean_text',ascending=False)\n",
        "temp.style.background_gradient(cmap='Purples')"
      ]
    },
    {
      "cell_type": "code",
      "execution_count": 8,
      "metadata": {
        "colab": {
          "base_uri": "https://localhost:8080/",
          "height": 542
        },
        "id": "ufoIbuRbSsv1",
        "outputId": "d2ad1761-dc67-463f-aea8-ad74eac5e06f"
      },
      "outputs": [
        {
          "output_type": "display_data",
          "data": {
            "text/html": [
              "<html>\n",
              "<head><meta charset=\"utf-8\" /></head>\n",
              "<body>\n",
              "    <div>            <script src=\"https://cdnjs.cloudflare.com/ajax/libs/mathjax/2.7.5/MathJax.js?config=TeX-AMS-MML_SVG\"></script><script type=\"text/javascript\">if (window.MathJax) {MathJax.Hub.Config({SVG: {font: \"STIX-Web\"}});}</script>                <script type=\"text/javascript\">window.PlotlyConfig = {MathJaxConfig: 'local'};</script>\n",
              "        <script src=\"https://cdn.plot.ly/plotly-2.8.3.min.js\"></script>                <div id=\"5ec9f210-166a-4df5-ba17-fd7bbda38ec0\" class=\"plotly-graph-div\" style=\"height:525px; width:100%;\"></div>            <script type=\"text/javascript\">                                    window.PLOTLYENV=window.PLOTLYENV || {};                                    if (document.getElementById(\"5ec9f210-166a-4df5-ba17-fd7bbda38ec0\")) {                    Plotly.newPlot(                        \"5ec9f210-166a-4df5-ba17-fd7bbda38ec0\",                        [{\"text\":[1.0,0.0,-1.0],\"title\":{\"position\":\"top center\",\"text\":\"Funnel-Chart of Sentiment Distribution\"},\"values\":[41257,31587,20329],\"type\":\"funnelarea\"}],                        {\"template\":{\"data\":{\"bar\":[{\"error_x\":{\"color\":\"#2a3f5f\"},\"error_y\":{\"color\":\"#2a3f5f\"},\"marker\":{\"line\":{\"color\":\"#E5ECF6\",\"width\":0.5},\"pattern\":{\"fillmode\":\"overlay\",\"size\":10,\"solidity\":0.2}},\"type\":\"bar\"}],\"barpolar\":[{\"marker\":{\"line\":{\"color\":\"#E5ECF6\",\"width\":0.5},\"pattern\":{\"fillmode\":\"overlay\",\"size\":10,\"solidity\":0.2}},\"type\":\"barpolar\"}],\"carpet\":[{\"aaxis\":{\"endlinecolor\":\"#2a3f5f\",\"gridcolor\":\"white\",\"linecolor\":\"white\",\"minorgridcolor\":\"white\",\"startlinecolor\":\"#2a3f5f\"},\"baxis\":{\"endlinecolor\":\"#2a3f5f\",\"gridcolor\":\"white\",\"linecolor\":\"white\",\"minorgridcolor\":\"white\",\"startlinecolor\":\"#2a3f5f\"},\"type\":\"carpet\"}],\"choropleth\":[{\"colorbar\":{\"outlinewidth\":0,\"ticks\":\"\"},\"type\":\"choropleth\"}],\"contour\":[{\"colorbar\":{\"outlinewidth\":0,\"ticks\":\"\"},\"colorscale\":[[0.0,\"#0d0887\"],[0.1111111111111111,\"#46039f\"],[0.2222222222222222,\"#7201a8\"],[0.3333333333333333,\"#9c179e\"],[0.4444444444444444,\"#bd3786\"],[0.5555555555555556,\"#d8576b\"],[0.6666666666666666,\"#ed7953\"],[0.7777777777777778,\"#fb9f3a\"],[0.8888888888888888,\"#fdca26\"],[1.0,\"#f0f921\"]],\"type\":\"contour\"}],\"contourcarpet\":[{\"colorbar\":{\"outlinewidth\":0,\"ticks\":\"\"},\"type\":\"contourcarpet\"}],\"heatmap\":[{\"colorbar\":{\"outlinewidth\":0,\"ticks\":\"\"},\"colorscale\":[[0.0,\"#0d0887\"],[0.1111111111111111,\"#46039f\"],[0.2222222222222222,\"#7201a8\"],[0.3333333333333333,\"#9c179e\"],[0.4444444444444444,\"#bd3786\"],[0.5555555555555556,\"#d8576b\"],[0.6666666666666666,\"#ed7953\"],[0.7777777777777778,\"#fb9f3a\"],[0.8888888888888888,\"#fdca26\"],[1.0,\"#f0f921\"]],\"type\":\"heatmap\"}],\"heatmapgl\":[{\"colorbar\":{\"outlinewidth\":0,\"ticks\":\"\"},\"colorscale\":[[0.0,\"#0d0887\"],[0.1111111111111111,\"#46039f\"],[0.2222222222222222,\"#7201a8\"],[0.3333333333333333,\"#9c179e\"],[0.4444444444444444,\"#bd3786\"],[0.5555555555555556,\"#d8576b\"],[0.6666666666666666,\"#ed7953\"],[0.7777777777777778,\"#fb9f3a\"],[0.8888888888888888,\"#fdca26\"],[1.0,\"#f0f921\"]],\"type\":\"heatmapgl\"}],\"histogram\":[{\"marker\":{\"pattern\":{\"fillmode\":\"overlay\",\"size\":10,\"solidity\":0.2}},\"type\":\"histogram\"}],\"histogram2d\":[{\"colorbar\":{\"outlinewidth\":0,\"ticks\":\"\"},\"colorscale\":[[0.0,\"#0d0887\"],[0.1111111111111111,\"#46039f\"],[0.2222222222222222,\"#7201a8\"],[0.3333333333333333,\"#9c179e\"],[0.4444444444444444,\"#bd3786\"],[0.5555555555555556,\"#d8576b\"],[0.6666666666666666,\"#ed7953\"],[0.7777777777777778,\"#fb9f3a\"],[0.8888888888888888,\"#fdca26\"],[1.0,\"#f0f921\"]],\"type\":\"histogram2d\"}],\"histogram2dcontour\":[{\"colorbar\":{\"outlinewidth\":0,\"ticks\":\"\"},\"colorscale\":[[0.0,\"#0d0887\"],[0.1111111111111111,\"#46039f\"],[0.2222222222222222,\"#7201a8\"],[0.3333333333333333,\"#9c179e\"],[0.4444444444444444,\"#bd3786\"],[0.5555555555555556,\"#d8576b\"],[0.6666666666666666,\"#ed7953\"],[0.7777777777777778,\"#fb9f3a\"],[0.8888888888888888,\"#fdca26\"],[1.0,\"#f0f921\"]],\"type\":\"histogram2dcontour\"}],\"mesh3d\":[{\"colorbar\":{\"outlinewidth\":0,\"ticks\":\"\"},\"type\":\"mesh3d\"}],\"parcoords\":[{\"line\":{\"colorbar\":{\"outlinewidth\":0,\"ticks\":\"\"}},\"type\":\"parcoords\"}],\"pie\":[{\"automargin\":true,\"type\":\"pie\"}],\"scatter\":[{\"marker\":{\"colorbar\":{\"outlinewidth\":0,\"ticks\":\"\"}},\"type\":\"scatter\"}],\"scatter3d\":[{\"line\":{\"colorbar\":{\"outlinewidth\":0,\"ticks\":\"\"}},\"marker\":{\"colorbar\":{\"outlinewidth\":0,\"ticks\":\"\"}},\"type\":\"scatter3d\"}],\"scattercarpet\":[{\"marker\":{\"colorbar\":{\"outlinewidth\":0,\"ticks\":\"\"}},\"type\":\"scattercarpet\"}],\"scattergeo\":[{\"marker\":{\"colorbar\":{\"outlinewidth\":0,\"ticks\":\"\"}},\"type\":\"scattergeo\"}],\"scattergl\":[{\"marker\":{\"colorbar\":{\"outlinewidth\":0,\"ticks\":\"\"}},\"type\":\"scattergl\"}],\"scattermapbox\":[{\"marker\":{\"colorbar\":{\"outlinewidth\":0,\"ticks\":\"\"}},\"type\":\"scattermapbox\"}],\"scatterpolar\":[{\"marker\":{\"colorbar\":{\"outlinewidth\":0,\"ticks\":\"\"}},\"type\":\"scatterpolar\"}],\"scatterpolargl\":[{\"marker\":{\"colorbar\":{\"outlinewidth\":0,\"ticks\":\"\"}},\"type\":\"scatterpolargl\"}],\"scatterternary\":[{\"marker\":{\"colorbar\":{\"outlinewidth\":0,\"ticks\":\"\"}},\"type\":\"scatterternary\"}],\"surface\":[{\"colorbar\":{\"outlinewidth\":0,\"ticks\":\"\"},\"colorscale\":[[0.0,\"#0d0887\"],[0.1111111111111111,\"#46039f\"],[0.2222222222222222,\"#7201a8\"],[0.3333333333333333,\"#9c179e\"],[0.4444444444444444,\"#bd3786\"],[0.5555555555555556,\"#d8576b\"],[0.6666666666666666,\"#ed7953\"],[0.7777777777777778,\"#fb9f3a\"],[0.8888888888888888,\"#fdca26\"],[1.0,\"#f0f921\"]],\"type\":\"surface\"}],\"table\":[{\"cells\":{\"fill\":{\"color\":\"#EBF0F8\"},\"line\":{\"color\":\"white\"}},\"header\":{\"fill\":{\"color\":\"#C8D4E3\"},\"line\":{\"color\":\"white\"}},\"type\":\"table\"}]},\"layout\":{\"annotationdefaults\":{\"arrowcolor\":\"#2a3f5f\",\"arrowhead\":0,\"arrowwidth\":1},\"autotypenumbers\":\"strict\",\"coloraxis\":{\"colorbar\":{\"outlinewidth\":0,\"ticks\":\"\"}},\"colorscale\":{\"diverging\":[[0,\"#8e0152\"],[0.1,\"#c51b7d\"],[0.2,\"#de77ae\"],[0.3,\"#f1b6da\"],[0.4,\"#fde0ef\"],[0.5,\"#f7f7f7\"],[0.6,\"#e6f5d0\"],[0.7,\"#b8e186\"],[0.8,\"#7fbc41\"],[0.9,\"#4d9221\"],[1,\"#276419\"]],\"sequential\":[[0.0,\"#0d0887\"],[0.1111111111111111,\"#46039f\"],[0.2222222222222222,\"#7201a8\"],[0.3333333333333333,\"#9c179e\"],[0.4444444444444444,\"#bd3786\"],[0.5555555555555556,\"#d8576b\"],[0.6666666666666666,\"#ed7953\"],[0.7777777777777778,\"#fb9f3a\"],[0.8888888888888888,\"#fdca26\"],[1.0,\"#f0f921\"]],\"sequentialminus\":[[0.0,\"#0d0887\"],[0.1111111111111111,\"#46039f\"],[0.2222222222222222,\"#7201a8\"],[0.3333333333333333,\"#9c179e\"],[0.4444444444444444,\"#bd3786\"],[0.5555555555555556,\"#d8576b\"],[0.6666666666666666,\"#ed7953\"],[0.7777777777777778,\"#fb9f3a\"],[0.8888888888888888,\"#fdca26\"],[1.0,\"#f0f921\"]]},\"colorway\":[\"#636efa\",\"#EF553B\",\"#00cc96\",\"#ab63fa\",\"#FFA15A\",\"#19d3f3\",\"#FF6692\",\"#B6E880\",\"#FF97FF\",\"#FECB52\"],\"font\":{\"color\":\"#2a3f5f\"},\"geo\":{\"bgcolor\":\"white\",\"lakecolor\":\"white\",\"landcolor\":\"#E5ECF6\",\"showlakes\":true,\"showland\":true,\"subunitcolor\":\"white\"},\"hoverlabel\":{\"align\":\"left\"},\"hovermode\":\"closest\",\"mapbox\":{\"style\":\"light\"},\"paper_bgcolor\":\"white\",\"plot_bgcolor\":\"#E5ECF6\",\"polar\":{\"angularaxis\":{\"gridcolor\":\"white\",\"linecolor\":\"white\",\"ticks\":\"\"},\"bgcolor\":\"#E5ECF6\",\"radialaxis\":{\"gridcolor\":\"white\",\"linecolor\":\"white\",\"ticks\":\"\"}},\"scene\":{\"xaxis\":{\"backgroundcolor\":\"#E5ECF6\",\"gridcolor\":\"white\",\"gridwidth\":2,\"linecolor\":\"white\",\"showbackground\":true,\"ticks\":\"\",\"zerolinecolor\":\"white\"},\"yaxis\":{\"backgroundcolor\":\"#E5ECF6\",\"gridcolor\":\"white\",\"gridwidth\":2,\"linecolor\":\"white\",\"showbackground\":true,\"ticks\":\"\",\"zerolinecolor\":\"white\"},\"zaxis\":{\"backgroundcolor\":\"#E5ECF6\",\"gridcolor\":\"white\",\"gridwidth\":2,\"linecolor\":\"white\",\"showbackground\":true,\"ticks\":\"\",\"zerolinecolor\":\"white\"}},\"shapedefaults\":{\"line\":{\"color\":\"#2a3f5f\"}},\"ternary\":{\"aaxis\":{\"gridcolor\":\"white\",\"linecolor\":\"white\",\"ticks\":\"\"},\"baxis\":{\"gridcolor\":\"white\",\"linecolor\":\"white\",\"ticks\":\"\"},\"bgcolor\":\"#E5ECF6\",\"caxis\":{\"gridcolor\":\"white\",\"linecolor\":\"white\",\"ticks\":\"\"}},\"title\":{\"x\":0.05},\"xaxis\":{\"automargin\":true,\"gridcolor\":\"white\",\"linecolor\":\"white\",\"ticks\":\"\",\"title\":{\"standoff\":15},\"zerolinecolor\":\"white\",\"zerolinewidth\":2},\"yaxis\":{\"automargin\":true,\"gridcolor\":\"white\",\"linecolor\":\"white\",\"ticks\":\"\",\"title\":{\"standoff\":15},\"zerolinecolor\":\"white\",\"zerolinewidth\":2}}}},                        {\"responsive\": true}                    ).then(function(){\n",
              "                            \n",
              "var gd = document.getElementById('5ec9f210-166a-4df5-ba17-fd7bbda38ec0');\n",
              "var x = new MutationObserver(function (mutations, observer) {{\n",
              "        var display = window.getComputedStyle(gd).display;\n",
              "        if (!display || display === 'none') {{\n",
              "            console.log([gd, 'removed!']);\n",
              "            Plotly.purge(gd);\n",
              "            observer.disconnect();\n",
              "        }}\n",
              "}});\n",
              "\n",
              "// Listen for the removal of the full notebook cells\n",
              "var notebookContainer = gd.closest('#notebook-container');\n",
              "if (notebookContainer) {{\n",
              "    x.observe(notebookContainer, {childList: true});\n",
              "}}\n",
              "\n",
              "// Listen for the clearing of the current output cell\n",
              "var outputEl = gd.closest('.output');\n",
              "if (outputEl) {{\n",
              "    x.observe(outputEl, {childList: true});\n",
              "}}\n",
              "\n",
              "                        })                };                            </script>        </div>\n",
              "</body>\n",
              "</html>"
            ]
          },
          "metadata": {}
        }
      ],
      "source": [
        "fig = go.Figure(go.Funnelarea(\n",
        "    text =temp.category,\n",
        "    values = temp.clean_text,\n",
        "    title = {\"position\": \"top center\", \"text\": \"Funnel-Chart of Sentiment Distribution\"}\n",
        "))\n",
        "fig.show()"
      ]
    },
    {
      "cell_type": "code",
      "execution_count": 9,
      "metadata": {
        "id": "ozpMWeJMUOMq"
      },
      "outputs": [],
      "source": [
        "def to_str(word):\n",
        "  return str(word)\n",
        "def to_lower(word): \n",
        "     result = word.lower() \n",
        "     return result\n",
        "def remove_hyperlink(word):\n",
        "    return  re.sub(r\"http\\S+\", \"\", word)\n",
        "\n",
        "def remove_mentions(word):\n",
        "    return re.sub(r\"@\\S+\", \"\", word)"
      ]
    },
    {
      "cell_type": "code",
      "execution_count": 10,
      "metadata": {
        "id": "oMtzMdBwjfAx"
      },
      "outputs": [],
      "source": [
        "def remove_number(word):\n",
        "    result = re.sub(r'\\d+', '', word)\n",
        "    return result\n",
        "\n",
        "def remove_punctuation(word):\n",
        "    result = re.sub('[^A-Za-z]+', ' ', word)\n",
        "    return result\n",
        "\n",
        "def remove_whitespace(word):\n",
        "    result = word.strip()\n",
        "    return result\n",
        "\n",
        "def replace_newline(word):\n",
        "    return word.replace('\\n','')\n",
        "\n",
        "def remove_stopwords(word):\n",
        "    return ' '.join(i for i in word.split() if i not in stopwords)\n"
      ]
    },
    {
      "cell_type": "code",
      "execution_count": 10,
      "metadata": {
        "id": "Cv2UiPnUjewx"
      },
      "outputs": [],
      "source": []
    },
    {
      "cell_type": "code",
      "execution_count": 11,
      "metadata": {
        "id": "pT9H3IPRZgPG"
      },
      "outputs": [],
      "source": [
        "def clean_up_pipeline(sentence):\n",
        "    cleaning_data = [ to_str, remove_hyperlink,\n",
        "                      replace_newline,\n",
        "                      to_lower,\n",
        "                      remove_number,\n",
        "                      remove_punctuation,\n",
        "                      remove_whitespace,\n",
        "                     ]\n",
        "    for func in cleaning_data:\n",
        "        \n",
        "        sentence = func(sentence)\n",
        "    return sentence"
      ]
    },
    {
      "cell_type": "code",
      "execution_count": 12,
      "metadata": {
        "id": "v57b_nGAxsq1"
      },
      "outputs": [],
      "source": [
        "df.dropna(inplace=True)\n",
        "df['clean_text'] = df['clean_text'].apply(clean_up_pipeline)"
      ]
    },
    {
      "cell_type": "code",
      "execution_count": 13,
      "metadata": {
        "id": "Cz4YlYARLwJn"
      },
      "outputs": [],
      "source": [
        "from sklearn.model_selection import train_test_split\n",
        "X_train, X_test, y_train, y_test = train_test_split(df.clean_text,df.category,test_size = 0.2)"
      ]
    },
    {
      "cell_type": "code",
      "execution_count": 14,
      "metadata": {
        "id": "SlHmUPj5av1L"
      },
      "outputs": [],
      "source": [
        "X_train = X_train.apply(clean_up_pipeline)"
      ]
    },
    {
      "cell_type": "code",
      "execution_count": 15,
      "metadata": {
        "colab": {
          "base_uri": "https://localhost:8080/"
        },
        "id": "vVd_NgHBOgBC",
        "outputId": "f1f6e737-f24e-415f-f57f-293597ae6fda"
      },
      "outputs": [
        {
          "output_type": "stream",
          "name": "stderr",
          "text": [
            "[nltk_data] Downloading package punkt to /root/nltk_data...\n",
            "[nltk_data]   Unzipping tokenizers/punkt.zip.\n"
          ]
        }
      ],
      "source": [
        "nltk.download('punkt')\n",
        "X_train = X_train.apply(word_tokenize)"
      ]
    },
    {
      "cell_type": "code",
      "execution_count": 16,
      "metadata": {
        "id": "0PIKcxqDV3oT"
      },
      "outputs": [],
      "source": [
        "stemmer = PorterStemmer()\n",
        "def stem_words(text):\n",
        "    return \" \".join([stemmer.stem(word) for word in text])\n",
        "X_train = X_train.apply(lambda text: stem_words(text))"
      ]
    },
    {
      "cell_type": "code",
      "execution_count": 17,
      "metadata": {
        "id": "EsElARsoYIg8"
      },
      "outputs": [],
      "source": [
        "bow=CountVectorizer( min_df=2, max_features=1002)\n",
        "bow.fit(X_train)\n",
        "bow_df=bow.transform(X_train).toarray()"
      ]
    },
    {
      "cell_type": "code",
      "execution_count": 18,
      "metadata": {
        "colab": {
          "base_uri": "https://localhost:8080/"
        },
        "id": "1RXJl7yIYrTo",
        "outputId": "81d1b0d4-95f1-4e43-8c70-2985c065957e"
      },
      "outputs": [
        {
          "output_type": "execute_result",
          "data": {
            "text/plain": [
              "RandomForestClassifier(n_estimators=27)"
            ]
          },
          "metadata": {},
          "execution_count": 18
        }
      ],
      "source": [
        "RF = RandomForestClassifier(n_estimators=27)\n",
        "RF.fit(bow_df, np.array(y_train))"
      ]
    },
    {
      "cell_type": "code",
      "execution_count": 19,
      "metadata": {
        "id": "G_JAZCNqwNLf"
      },
      "outputs": [],
      "source": [
        "RF.max_depth"
      ]
    },
    {
      "cell_type": "code",
      "execution_count": 20,
      "metadata": {
        "id": "kxqTEMPp1Fho"
      },
      "outputs": [],
      "source": [
        "y_train_pred = RF.predict(bow_df)\n",
        "cf_matrix =confusion_matrix(y_train,y_train_pred)"
      ]
    },
    {
      "cell_type": "code",
      "execution_count": 21,
      "metadata": {
        "colab": {
          "base_uri": "https://localhost:8080/"
        },
        "id": "uUHv1o8Hc2BW",
        "outputId": "13f5f04d-3d0f-4b1b-c7d1-bfa3069aee01"
      },
      "outputs": [
        {
          "output_type": "execute_result",
          "data": {
            "text/plain": [
              "array([[16165,    53,    24],\n",
              "       [   10, 25272,    17],\n",
              "       [    7,   131, 32859]])"
            ]
          },
          "metadata": {},
          "execution_count": 21
        }
      ],
      "source": [
        "cf_matrix"
      ]
    },
    {
      "cell_type": "code",
      "execution_count": 22,
      "metadata": {
        "colab": {
          "base_uri": "https://localhost:8080/"
        },
        "id": "GGC0Ce6Icpqv",
        "outputId": "3f5f42d9-1391-448e-9e2b-bf522b2010ee"
      },
      "outputs": [
        {
          "output_type": "stream",
          "name": "stdout",
          "text": [
            "Precision: 99.68%\n",
            "Recall: 99.68%\n",
            "F1 Score: 99.68%\n"
          ]
        }
      ],
      "source": [
        "print(\"Precision: {:.2f}%\".format(100 * precision_score(y_train, y_train_pred, average='micro')))\n",
        "print(\"Recall: {:.2f}%\".format(100 * recall_score(y_train, y_train_pred, average='micro')))\n",
        "print(\"F1 Score: {:.2f}%\".format(100 * f1_score(y_train,y_train_pred, average='micro')))"
      ]
    },
    {
      "cell_type": "code",
      "execution_count": 23,
      "metadata": {
        "colab": {
          "base_uri": "https://localhost:8080/"
        },
        "id": "UrPcX7z-cwzA",
        "outputId": "7cecf101-da62-45c4-fb61-da07e1ba4754"
      },
      "outputs": [
        {
          "output_type": "execute_result",
          "data": {
            "text/plain": [
              "array([[1948, 1390,  749],\n",
              "       [  82, 5943,  263],\n",
              "       [ 425, 1935, 5900]])"
            ]
          },
          "metadata": {},
          "execution_count": 23
        }
      ],
      "source": [
        "y_test_pred = RF.predict(bow.transform(X_test).toarray())\n",
        "cf_test_matrix =confusion_matrix(y_test,y_test_pred)\n",
        "cf_test_matrix\n"
      ]
    },
    {
      "cell_type": "code",
      "execution_count": 24,
      "metadata": {
        "colab": {
          "base_uri": "https://localhost:8080/"
        },
        "id": "6xStk6Rn0Yc9",
        "outputId": "97d9a5ab-f018-468f-8a8a-f58fda9a3eea"
      },
      "outputs": [
        {
          "output_type": "execute_result",
          "data": {
            "text/plain": [
              "array([0., 0., 1., ..., 0., 1., 0.])"
            ]
          },
          "metadata": {},
          "execution_count": 24
        }
      ],
      "source": [
        "y_test_pred"
      ]
    },
    {
      "cell_type": "code",
      "execution_count": 25,
      "metadata": {
        "colab": {
          "base_uri": "https://localhost:8080/"
        },
        "id": "YbciE7Sre1yC",
        "outputId": "6cce9849-3a75-4aeb-8999-7da8b472be4b"
      },
      "outputs": [
        {
          "output_type": "stream",
          "name": "stdout",
          "text": [
            "Precision: 76.88%\n",
            "Recall: 74.01%\n",
            "F1 Score: 73.32%\n"
          ]
        },
        {
          "output_type": "execute_result",
          "data": {
            "text/plain": [
              "0.7400590287094178"
            ]
          },
          "metadata": {},
          "execution_count": 25
        }
      ],
      "source": [
        "print(\"Precision: {:.2f}%\".format(100 * precision_score(y_test, y_test_pred, average='weighted')))\n",
        "print(\"Recall: {:.2f}%\".format(100 * recall_score(y_test, y_test_pred, average='weighted')))\n",
        "print(\"F1 Score: {:.2f}%\".format(100 * f1_score(y_test,y_test_pred, average='weighted')))\n",
        "RF.score(bow.transform(X_test).toarray(), y_test)"
      ]
    },
    {
      "cell_type": "code",
      "execution_count": 26,
      "metadata": {
        "colab": {
          "base_uri": "https://localhost:8080/"
        },
        "id": "On5wR5qDdSrZ",
        "outputId": "8bc730f9-a17f-4be6-9218-3b233b78baed"
      },
      "outputs": [
        {
          "output_type": "execute_result",
          "data": {
            "text/plain": [
              "0.6803863697343708"
            ]
          },
          "metadata": {},
          "execution_count": 26
        }
      ],
      "source": [
        "data_dmatrix = xgb.DMatrix(data=bow_df,label=y_train)\n",
        "xgb_model = xgb.XGBClassifier()\n",
        "xgb_model.fit(bow_df, np.array(y_train))\n",
        "xgb_model.score(bow.transform(X_test).toarray(), y_test)"
      ]
    },
    {
      "cell_type": "code",
      "execution_count": 27,
      "metadata": {
        "colab": {
          "base_uri": "https://localhost:8080/"
        },
        "id": "UgZOghp91rBw",
        "outputId": "466ed3b0-18d9-488c-f8f2-3a4a5c8a77fe"
      },
      "outputs": [
        {
          "output_type": "execute_result",
          "data": {
            "text/plain": [
              "array([[1181, 1929,  977],\n",
              "       [  24, 5935,  329],\n",
              "       [ 194, 2503, 5563]])"
            ]
          },
          "metadata": {},
          "execution_count": 27
        }
      ],
      "source": [
        "y_test_pred = xgb_model.predict(bow.transform(X_test).toarray())\n",
        "cf_test_matrix =confusion_matrix(y_test,y_test_pred)\n",
        "cf_test_matrix"
      ]
    },
    {
      "cell_type": "markdown",
      "metadata": {
        "id": "QCHOG6UN1qzD"
      },
      "source": [
        "xgb_model.get_params()"
      ]
    },
    {
      "cell_type": "code",
      "execution_count": 28,
      "metadata": {
        "colab": {
          "base_uri": "https://localhost:8080/"
        },
        "id": "4GpoEj9966_y",
        "outputId": "74d8c75f-e417-4d0f-8f91-c775e49b6421"
      },
      "outputs": [
        {
          "output_type": "execute_result",
          "data": {
            "text/plain": [
              "0.6541990877381272"
            ]
          },
          "metadata": {},
          "execution_count": 28
        }
      ],
      "source": [
        "naive_bayes = GaussianNB()\n",
        "naive_bayes.fit(bow_df, np.array(y_train))\n",
        "naive_bayes.score(bow.transform(X_test).toarray(), y_test)"
      ]
    },
    {
      "cell_type": "code",
      "execution_count": 29,
      "metadata": {
        "colab": {
          "base_uri": "https://localhost:8080/"
        },
        "id": "UJsnljy9669O",
        "outputId": "a2c0da2c-fbcd-4f30-aa34-687785cd6dae"
      },
      "outputs": [
        {
          "output_type": "execute_result",
          "data": {
            "text/plain": [
              "0.44158840890796885"
            ]
          },
          "metadata": {},
          "execution_count": 29
        }
      ],
      "source": [
        "knn = KNeighborsClassifier()\n",
        "knn.fit(bow_df,np.array(y_train))\n",
        "knn.score(bow.transform(X_test).toarray(), y_test)"
      ]
    },
    {
      "cell_type": "code",
      "execution_count": 30,
      "metadata": {
        "colab": {
          "base_uri": "https://localhost:8080/"
        },
        "id": "MGp0CgV0666o",
        "outputId": "d8db5312-5b22-4022-d56b-51dfca5c20fb"
      },
      "outputs": [
        {
          "output_type": "execute_result",
          "data": {
            "text/plain": [
              "0.710008049369466"
            ]
          },
          "metadata": {},
          "execution_count": 30
        }
      ],
      "source": [
        "dt = DecisionTreeClassifier()\n",
        "dt.fit(bow_df,np.array(y_train))\n",
        "dt.score(bow.transform(X_test).toarray(), y_test)"
      ]
    },
    {
      "cell_type": "code",
      "execution_count": 31,
      "metadata": {
        "id": "MIPObfmh1qn3"
      },
      "outputs": [],
      "source": [
        "xgb_new_model = xgb.XGBClassifier()\n",
        "xgb_param = {\n",
        "    'n_estimators':[20, 25, 30, 35, 50],\n",
        "    'subsamples':[0.5, 0.8, 1],\n",
        "    'max_depth': [1, 3, 5, 7],\n",
        "    'learning_rate': [0.1, 0.01, 0.3]\n",
        "}"
      ]
    },
    {
      "cell_type": "code",
      "execution_count": 32,
      "metadata": {
        "id": "EdXrQL12eLCs"
      },
      "outputs": [],
      "source": [
        "class ARMClassifier:\n",
        "  def __init__(self, models_with_accuracy):\n",
        "    self.models_with_accuracy = models_with_accuracy\n",
        "    self.positive_count = 0\n",
        "    self.neutral_count = 0\n",
        "    self.negative_count = 0\n",
        "    self.positive_probability = 0\n",
        "    self.negative_probability = 0\n",
        "    self.neutral_probability = 0\n",
        "    self.total_accuracy = 0\n",
        "    self.weight = {}\n",
        "    self.models = []\n",
        "    for i in self.models_with_accuracy:\n",
        "      self.models.append(i)\n",
        "      self.total_accuracy += self.models_with_accuracy[i]\n",
        "    for i in self.models_with_accuracy:\n",
        "      self.weight[i] = self.models_with_accuracy[i]/self.total_accuracy\n",
        "\n",
        "  def sentiment_score(self, tweet):\n",
        "    tweet = [tweet]\n",
        "    \n",
        "    self.positive_count = 0\n",
        "    self.neutral_count = 0\n",
        "    self.negative_count = 0\n",
        "    self.positive_probability = 0\n",
        "    self.negative_probability = 0\n",
        "    self.neutral_probability = 0\n",
        "    for i in self.models:\n",
        "      pred = i.predict(tweet)\n",
        "      if pred[0] == -1:\n",
        "        self.negative_count += 1\n",
        "      elif pred[0] == 0:\n",
        "        self.neutral_count += 1\n",
        "      else:\n",
        "        self.positive_count += 1\n",
        "    \n",
        "    total = self.positive_count + self.negative_count + self.neutral_count\n",
        "\n",
        "    self.positive_probability = self.positive_count/total\n",
        "    self.negative_probability = self.negative_count/total\n",
        "    self.neutral_probability = self.neutral_count/total\n",
        "    positive_score, neutral_score, negative_score  = 0, 0, 0\n",
        "    \n",
        "    for model in self.models:\n",
        "      positive_score += self.weight[model] * self.positive_probability\n",
        "      neutral_score += self.weight[model] * self.neutral_probability\n",
        "      negative_score += self.weight[model] * self.negative_probability\n",
        "\n",
        "    return [positive_score, neutral_score, negative_score]\n",
        "\n",
        "\n",
        "  def predict(self, tweets):\n",
        "    output = [0] * len(tweets)\n",
        "    \n",
        "    for tweet_no in range(len(tweets)):\n",
        "      positive_score, neutral_score, negative_score = self.sentiment_score(tweets[tweet_no])\n",
        "      \n",
        "      if positive_score > negative_score and positive_score > neutral_score:\n",
        "        output[tweet_no] = 1\n",
        "      elif negative_score > positive_score and negative_score > neutral_score:\n",
        "        output[tweet_no] = -1\n",
        "      elif  neutral_score > positive_score and neutral_score > negative_score:\n",
        "        \n",
        "        output[tweet_no] = 0\n",
        "      else:\n",
        "        if positive_score == negative_score:\n",
        "          if self.positive_count > self.negative_count:\n",
        "            output[tweet_no] = 1\n",
        "          else:\n",
        "            output[tweet_no] = -1\n",
        "        elif positive_score == neutral_score:\n",
        "          if self.positive_count > self.neutral_count:\n",
        "            output[tweet_no] = 1\n",
        "          else:\n",
        "            output[tweet_no] = 0\n",
        "        elif neutral_score == negative_score:\n",
        "          if self.neutral_count > self.negative_count:\n",
        "            output[tweet_no] = 0\n",
        "          else:\n",
        "            output[tweet_no] = -1\n",
        "        else:\n",
        "          if self.positive_count > self.negative_count and self.positive_count > self.neutral_count:\n",
        "            output[tweet_no] = 1\n",
        "          elif self.neutral_count > self.negative_count and self.neutral_count > self.positive_count:\n",
        "            output[tweet_no] = 0\n",
        "          else:\n",
        "            output[tweet_no] = -1\n",
        "          \n",
        "    return output\n",
        "\n",
        "  "
      ]
    },
    {
      "cell_type": "code",
      "execution_count": 33,
      "metadata": {
        "id": "_8ldKz3kUHG7"
      },
      "outputs": [],
      "source": [
        "models = [RF ,xgb_model, naive_bayes, dt]\n",
        "models_with_accuracy = {}\n",
        "for model in models:\n",
        "  models_with_accuracy[model] = model.score(bow.transform(X_test).toarray(), y_test)"
      ]
    },
    {
      "cell_type": "code",
      "execution_count": 34,
      "metadata": {
        "id": "Y099wZRypoSs"
      },
      "outputs": [],
      "source": [
        "arm = ARMClassifier(models_with_accuracy)"
      ]
    },
    {
      "cell_type": "code",
      "execution_count": 35,
      "metadata": {
        "colab": {
          "base_uri": "https://localhost:8080/"
        },
        "id": "UIGvbSiYs0So",
        "outputId": "b93b4a39-71b6-4942-af34-0d39b3c38f05"
      },
      "outputs": [
        {
          "output_type": "execute_result",
          "data": {
            "text/plain": [
              "{RandomForestClassifier(n_estimators=27): 0.2657635088260233,\n",
              " XGBClassifier(objective='multi:softprob'): 0.24433438680336084,\n",
              " GaussianNB(): 0.23493023972866722,\n",
              " DecisionTreeClassifier(): 0.25497186464194865}"
            ]
          },
          "metadata": {},
          "execution_count": 35
        }
      ],
      "source": [
        "arm.weight"
      ]
    },
    {
      "cell_type": "code",
      "execution_count": 36,
      "metadata": {
        "colab": {
          "base_uri": "https://localhost:8080/"
        },
        "id": "GxS3qHU9h-bR",
        "outputId": "48ddc4a7-322c-4efd-853b-0159e7ae6245"
      },
      "outputs": [
        {
          "output_type": "stream",
          "name": "stdout",
          "text": [
            "RandomForestClassifier(n_estimators=27) : 0.7400590287094178\n",
            "XGBClassifier(objective='multi:softprob') : 0.6803863697343708\n",
            "GaussianNB() : 0.6541990877381272\n",
            "DecisionTreeClassifier() : 0.710008049369466\n"
          ]
        }
      ],
      "source": [
        "for model in models:\n",
        "  print(f'{model} : {model.score(bow.transform(X_test).toarray(), y_test)}')"
      ]
    },
    {
      "cell_type": "code",
      "execution_count": 37,
      "metadata": {
        "id": "NE88YGoHqKSv"
      },
      "outputs": [],
      "source": [
        "y_arm_pred = arm.predict(bow.transform(X_test).toarray())"
      ]
    },
    {
      "cell_type": "code",
      "execution_count": 38,
      "metadata": {
        "colab": {
          "base_uri": "https://localhost:8080/"
        },
        "id": "oOWB8SWbqiII",
        "outputId": "87d42501-bd96-47df-f0ad-055093cc3eae"
      },
      "outputs": [
        {
          "output_type": "stream",
          "name": "stdout",
          "text": [
            "F1 Score: 74.35%\n"
          ]
        }
      ],
      "source": [
        "print(\"F1 Score: {:.2f}%\".format(100 * f1_score(y_test,y_arm_pred, average='micro')))"
      ]
    },
    {
      "cell_type": "code",
      "execution_count": 39,
      "metadata": {
        "colab": {
          "base_uri": "https://localhost:8080/"
        },
        "id": "d4RRO0PLtnjD",
        "outputId": "215d177f-c607-49c8-b8e0-5274acea9b32"
      },
      "outputs": [
        {
          "output_type": "execute_result",
          "data": {
            "text/plain": [
              "array([[2045, 1464,  578],\n",
              "       [  67, 6123,   98],\n",
              "       [ 491, 2082, 5687]])"
            ]
          },
          "metadata": {},
          "execution_count": 39
        }
      ],
      "source": [
        "cf_test_matrix =confusion_matrix(y_test,y_arm_pred)\n",
        "cf_test_matrix"
      ]
    }
  ],
  "metadata": {
    "colab": {
      "collapsed_sections": [],
      "provenance": []
    },
    "kernelspec": {
      "display_name": "Python 3",
      "name": "python3"
    },
    "language_info": {
      "name": "python"
    }
  },
  "nbformat": 4,
  "nbformat_minor": 0
}